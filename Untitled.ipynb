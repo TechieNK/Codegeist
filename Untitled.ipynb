{
 "cells": [
  {
   "cell_type": "code",
   "execution_count": 50,
   "id": "cd0506ec",
   "metadata": {},
   "outputs": [],
   "source": [
    "from graphs.GraphRenderer import GraphRenderer\n",
    "from scraper.ReviewScraper import ReviewScraper"
   ]
  },
  {
   "cell_type": "code",
   "execution_count": 51,
   "id": "2e4fefd1",
   "metadata": {},
   "outputs": [],
   "source": [
    "scraper = ReviewScraper(key=\"com.appanvil.aura.aura\")"
   ]
  },
  {
   "cell_type": "code",
   "execution_count": 53,
   "id": "a44dc726",
   "metadata": {},
   "outputs": [
    {
     "ename": "AttributeError",
     "evalue": "'ReviewScraper' object has no attribute 'atlassian_reviews'",
     "output_type": "error",
     "traceback": [
      "\u001b[0;31m---------------------------------------------------------------------------\u001b[0m",
      "\u001b[0;31mAttributeError\u001b[0m                            Traceback (most recent call last)",
      "\u001b[0;32m<ipython-input-53-314e02daca54>\u001b[0m in \u001b[0;36m<module>\u001b[0;34m\u001b[0m\n\u001b[0;32m----> 1\u001b[0;31m \u001b[0mscraper\u001b[0m\u001b[0;34m.\u001b[0m\u001b[0matlassian_reviews\u001b[0m\u001b[0;34m(\u001b[0m\u001b[0;34m)\u001b[0m\u001b[0;34m\u001b[0m\u001b[0;34m\u001b[0m\u001b[0m\n\u001b[0m",
      "\u001b[0;31mAttributeError\u001b[0m: 'ReviewScraper' object has no attribute 'atlassian_reviews'"
     ]
    }
   ],
   "source": [
    "scraper.atlassian_reviews()"
   ]
  },
  {
   "cell_type": "code",
   "execution_count": null,
   "id": "ca04c859",
   "metadata": {},
   "outputs": [],
   "source": []
  },
  {
   "cell_type": "code",
   "execution_count": null,
   "id": "bdb897c9",
   "metadata": {},
   "outputs": [],
   "source": []
  }
 ],
 "metadata": {
  "kernelspec": {
   "display_name": "Python 3",
   "language": "python",
   "name": "python3"
  },
  "language_info": {
   "codemirror_mode": {
    "name": "ipython",
    "version": 3
   },
   "file_extension": ".py",
   "mimetype": "text/x-python",
   "name": "python",
   "nbconvert_exporter": "python",
   "pygments_lexer": "ipython3",
   "version": "3.8.5"
  }
 },
 "nbformat": 4,
 "nbformat_minor": 5
}
