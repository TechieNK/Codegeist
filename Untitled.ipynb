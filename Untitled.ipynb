{
 "cells": [
  {
   "cell_type": "code",
   "execution_count": 1,
   "id": "cd0506ec",
   "metadata": {},
   "outputs": [],
   "source": [
    "from graphs.GraphRenderer import GraphRenderer\n",
    "from scraper.ReviewScraper import ReviewScraper"
   ]
  },
  {
   "cell_type": "code",
   "execution_count": 2,
   "id": "2e4fefd1",
   "metadata": {},
   "outputs": [],
   "source": [
    "scraper = ReviewScraper(key=\"com.appanvil.aura.aura\")"
   ]
  },
  {
   "cell_type": "code",
   "execution_count": 4,
   "id": "a44dc726",
   "metadata": {},
   "outputs": [
    {
     "name": "stdout",
     "output_type": "stream",
     "text": [
      "https://marketplace.atlassian.com/rest/2/addons/com.appanvil.aura.aura/reviews\n",
      "10\n"
     ]
    }
   ],
   "source": [
    "reviews_df = scraper.get_reviews()"
   ]
  },
  {
   "cell_type": "code",
   "execution_count": null,
   "id": "ca04c859",
   "metadata": {},
   "outputs": [],
   "source": []
  },
  {
   "cell_type": "code",
   "execution_count": null,
   "id": "bdb897c9",
   "metadata": {},
   "outputs": [],
   "source": []
  }
 ],
 "metadata": {
  "kernelspec": {
   "display_name": "Python 3",
   "language": "python",
   "name": "python3"
  },
  "language_info": {
   "codemirror_mode": {
    "name": "ipython",
    "version": 3
   },
   "file_extension": ".py",
   "mimetype": "text/x-python",
   "name": "python",
   "nbconvert_exporter": "python",
   "pygments_lexer": "ipython3",
   "version": "3.8.5"
  }
 },
 "nbformat": 4,
 "nbformat_minor": 5
}
